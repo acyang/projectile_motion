{
 "cells": [
  {
   "cell_type": "code",
   "execution_count": 1,
   "metadata": {},
   "outputs": [],
   "source": [
    "# -*- coding: utf-8 -*-\n",
    "\"\"\"\n",
    "Created on Thu Jan 25 16:49:49 2018\n",
    "@author: 1203087\n",
    "\"\"\"\n",
    "\n",
    "import tensorflow as tf\n",
    "import matplotlib.pyplot as plt\n",
    "import numpy as np\n",
    "\n",
    "tf.set_random_seed(1)\n",
    "np.random.seed(1)\n",
    "\n",
    "# fake data\n",
    "vel   = np.random.random(size=1000)\n",
    "theta = np.random.randint(1,90,size=1000)\n",
    "inputs = np.stack((vel, theta), axis=-1)\n",
    "#print(inputs.shape)\n",
    "#print(vel)\n",
    "#print('This is input')\n",
    "#print(inputs[:,0] )\n",
    "\n",
    "r    = vel*vel*np.sin(2*np.radians(theta)) / 9.8\n",
    "h    = vel*vel*np.sin(np.radians(theta))*np.sin(np.radians(theta)) / 19.6\n",
    "ans = np.stack((r, h), axis=-1)\n",
    "#print(vel[10],theta[10],r[10],h[10])\n",
    "\n",
    "def f(v, th, x):\n",
    "    return np.tan(np.radians(th)) * x - 4.9 * x * x / (v * v * np.cos(np.radians(th)) * np.cos(np.radians(th)))\n",
    "\n",
    "def range(v , th):\n",
    "    return v*v*np.sin(2*np.radians(th)) / 9.8\n",
    "\n",
    "def heigh(v , th):\n",
    "    return v*v*np.sin(np.radians(th))*np.sin(np.radians(th)) / 19.6\n",
    "\n",
    "#x = np.linspace(0, range(2 , 45), 100)\n",
    "#plt.plot(x, f(2, 45, x), 'b--')\n",
    "#plt.scatter(0.5*range(2 , 45), heigh(2 , 45),c='r',marker=(5, 1))\n",
    "#plt.scatter(range(2 , 45), 0,c='g')\n",
    "##plt.annotate('max', xy=(0.5*range(2 , 45), heigh(2 , 45)), xytext=(1.5, -1.5), arrowprops=dict(facecolor='black', shrink=0.05), )\n",
    "#plt.show()"
   ]
  },
  {
   "cell_type": "code",
   "execution_count": 2,
   "metadata": {},
   "outputs": [
    {
     "ename": "TypeError",
     "evalue": "range() missing 1 required positional argument: 'th'",
     "output_type": "error",
     "traceback": [
      "\u001b[1;31m---------------------------------------------------------------------------\u001b[0m",
      "\u001b[1;31mTypeError\u001b[0m                                 Traceback (most recent call last)",
      "\u001b[1;32m<ipython-input-2-2871557a3917>\u001b[0m in \u001b[0;36m<module>\u001b[1;34m()\u001b[0m\n\u001b[0;32m     25\u001b[0m \u001b[0mmerge_op\u001b[0m \u001b[1;33m=\u001b[0m \u001b[0mtf\u001b[0m\u001b[1;33m.\u001b[0m\u001b[0msummary\u001b[0m\u001b[1;33m.\u001b[0m\u001b[0mmerge_all\u001b[0m\u001b[1;33m(\u001b[0m\u001b[1;33m)\u001b[0m \u001b[1;31m# operation to merge all summary\u001b[0m\u001b[1;33m\u001b[0m\u001b[0m\n\u001b[0;32m     26\u001b[0m \u001b[1;33m\u001b[0m\u001b[0m\n\u001b[1;32m---> 27\u001b[1;33m \u001b[1;32mfor\u001b[0m \u001b[0mstep\u001b[0m \u001b[1;32min\u001b[0m \u001b[0mrange\u001b[0m\u001b[1;33m(\u001b[0m\u001b[1;36m1000\u001b[0m\u001b[1;33m)\u001b[0m\u001b[1;33m:\u001b[0m\u001b[1;33m\u001b[0m\u001b[0m\n\u001b[0m\u001b[0;32m     28\u001b[0m     \u001b[1;31m# train and net output\u001b[0m\u001b[1;33m\u001b[0m\u001b[1;33m\u001b[0m\u001b[0m\n\u001b[0;32m     29\u001b[0m     \u001b[0m_\u001b[0m\u001b[1;33m,\u001b[0m \u001b[0ml\u001b[0m\u001b[1;33m,\u001b[0m \u001b[0mpred\u001b[0m \u001b[1;33m=\u001b[0m \u001b[0msess\u001b[0m\u001b[1;33m.\u001b[0m\u001b[0mrun\u001b[0m\u001b[1;33m(\u001b[0m\u001b[1;33m[\u001b[0m\u001b[0mtrain_op\u001b[0m\u001b[1;33m,\u001b[0m \u001b[0mloss\u001b[0m\u001b[1;33m,\u001b[0m \u001b[0moutput\u001b[0m\u001b[1;33m]\u001b[0m\u001b[1;33m,\u001b[0m \u001b[1;33m{\u001b[0m\u001b[0mtf_inputs\u001b[0m\u001b[1;33m:\u001b[0m \u001b[0minputs\u001b[0m\u001b[1;33m,\u001b[0m \u001b[0mtf_ans\u001b[0m\u001b[1;33m:\u001b[0m \u001b[0mans\u001b[0m\u001b[1;33m}\u001b[0m\u001b[1;33m)\u001b[0m\u001b[1;33m\u001b[0m\u001b[0m\n",
      "\u001b[1;31mTypeError\u001b[0m: range() missing 1 required positional argument: 'th'"
     ]
    }
   ],
   "source": [
    "with tf.variable_scope('Inputs'):\n",
    "    tf_inputs = tf.placeholder(tf.float32, [None, 2], name='inputs')\n",
    "\n",
    "with tf.variable_scope('Ans'):\n",
    "    tf_ans = tf.placeholder(tf.float32, [None, 2], name='answers')\n",
    "\n",
    "with tf.variable_scope('Net'):\n",
    "    l1 = tf.layers.dense(tf_inputs, 5, tf.nn.relu, name='hidden_layer1')\n",
    "    l2 = tf.layers.dense(l1, 5, tf.nn.relu, name='hidden_layer2')\n",
    "    output = tf.layers.dense(l2, 2, name='output_layer')\n",
    "\n",
    "    # add to histogram summary\n",
    "    tf.summary.histogram('h1_out', l1)\n",
    "    tf.summary.histogram('h2_out', l2)\n",
    "    tf.summary.histogram('pred', output)\n",
    "\n",
    "loss = tf.losses.mean_squared_error(tf_ans, output, scope='loss')\n",
    "train_op = tf.train.GradientDescentOptimizer(learning_rate=0.05).minimize(loss)\n",
    "tf.summary.scalar('loss', loss)     # add loss to scalar summary\n",
    "\n",
    "sess = tf.Session()\n",
    "sess.run(tf.global_variables_initializer())\n",
    "\n",
    "writer = tf.summary.FileWriter('./log', sess.graph)     # write to file\n",
    "merge_op = tf.summary.merge_all() # operation to merge all summary\n",
    "\n",
    "for step in range(1000):\n",
    "    # train and net output\n",
    "    _, l, pred = sess.run([train_op, loss, output], {tf_inputs: inputs, tf_ans: ans})\n",
    "    if step % 10 == 0:\n",
    "        # plot and show learning process\n",
    "        print('step: ', step, 'loss: ', l)\n",
    "\n",
    "\n",
    "sess.close()\n"
   ]
  },
  {
   "cell_type": "code",
   "execution_count": null,
   "metadata": {
    "collapsed": true
   },
   "outputs": [],
   "source": []
  },
  {
   "cell_type": "code",
   "execution_count": null,
   "metadata": {
    "collapsed": true
   },
   "outputs": [],
   "source": []
  }
 ],
 "metadata": {
  "kernelspec": {
   "display_name": "Python 3",
   "language": "python",
   "name": "python3"
  },
  "language_info": {
   "codemirror_mode": {
    "name": "ipython",
    "version": 3
   },
   "file_extension": ".py",
   "mimetype": "text/x-python",
   "name": "python",
   "nbconvert_exporter": "python",
   "pygments_lexer": "ipython3",
   "version": "3.5.2"
  }
 },
 "nbformat": 4,
 "nbformat_minor": 2
}
